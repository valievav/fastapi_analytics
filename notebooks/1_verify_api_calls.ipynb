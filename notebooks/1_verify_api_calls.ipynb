{
 "cells": [
  {
   "cell_type": "code",
   "execution_count": 1,
   "id": "e1f6a14e-79a3-47d3-bc53-79c01724b2dc",
   "metadata": {},
   "outputs": [],
   "source": [
    "import requests\n",
    "from pprint import pprint"
   ]
  },
  {
   "cell_type": "code",
   "execution_count": 2,
   "id": "9926fb96-cf29-4230-b007-55cd3139c3c7",
   "metadata": {},
   "outputs": [],
   "source": [
    "base_url = 'http://localhost:8002'"
   ]
  },
  {
   "cell_type": "code",
   "execution_count": 3,
   "id": "4b176793-2a18-4c4b-a258-60c6933656de",
   "metadata": {},
   "outputs": [
    {
     "data": {
      "text/plain": [
       "True"
      ]
     },
     "execution_count": 3,
     "metadata": {},
     "output_type": "execute_result"
    }
   ],
   "source": [
    "path = '/healthz'\n",
    "endpoint = f'{base_url}{path}'\n",
    "response = requests.get(endpoint)\n",
    "\n",
    "response.ok"
   ]
  },
  {
   "cell_type": "code",
   "execution_count": 4,
   "id": "c99e4946-3d93-4869-9f8a-f59d07a2a347",
   "metadata": {},
   "outputs": [
    {
     "name": "stdout",
     "output_type": "stream",
     "text": [
      "{'items': [{'created_at': '2025-05-04T21:10:51.639496Z',\n",
      "            'description': 'NEW desc!',\n",
      "            'id': 1,\n",
      "            'path': 'some path',\n",
      "            'updated_at': '2025-05-05T11:55:20.780931Z'},\n",
      "           {'created_at': '2025-05-04T21:10:58.442425Z',\n",
      "            'description': None,\n",
      "            'id': 2,\n",
      "            'path': 'some path',\n",
      "            'updated_at': '2025-05-04T21:10:58.442435Z'},\n",
      "           {'created_at': '2025-05-04T21:11:20.829522Z',\n",
      "            'description': None,\n",
      "            'id': 3,\n",
      "            'path': 'some path',\n",
      "            'updated_at': '2025-05-04T21:11:20.829533Z'},\n",
      "           {'created_at': '2025-05-05T11:55:20.657947Z',\n",
      "            'description': None,\n",
      "            'id': 4,\n",
      "            'path': '/home',\n",
      "            'updated_at': '2025-05-05T11:55:20.657961Z'}]}\n"
     ]
    }
   ],
   "source": [
    "path = '/api/events/'\n",
    "endpoint = f'{base_url}{path}'\n",
    "response = requests.get(endpoint)\n",
    "\n",
    "if response.ok:\n",
    "    data = response.json()\n",
    "    pprint(data)\n",
    "else:\n",
    "    print(response.text)"
   ]
  },
  {
   "cell_type": "code",
   "execution_count": 5,
   "id": "1ba021d8-ec89-490a-b4f7-1c93bc0e70a1",
   "metadata": {},
   "outputs": [
    {
     "name": "stdout",
     "output_type": "stream",
     "text": [
      "{'created_at': '2025-05-04T21:10:51.639496Z',\n",
      " 'description': 'NEW desc!',\n",
      " 'id': 1,\n",
      " 'path': 'some path',\n",
      " 'updated_at': '2025-05-05T11:55:20.780931Z'}\n"
     ]
    }
   ],
   "source": [
    "path = '/api/events/1'\n",
    "endpoint = f'{base_url}{path}'\n",
    "response = requests.get(endpoint)\n",
    "\n",
    "if response.ok:\n",
    "    data = response.json()\n",
    "    pprint(data)\n",
    "else:\n",
    "    print(response.text)"
   ]
  },
  {
   "cell_type": "code",
   "execution_count": 6,
   "id": "4096c861-4d7e-413b-9f1d-9ed992bbcfaf",
   "metadata": {},
   "outputs": [
    {
     "name": "stdout",
     "output_type": "stream",
     "text": [
      "{'description': None, 'path': '/home'}\n"
     ]
    }
   ],
   "source": [
    "path = '/api/events/'\n",
    "endpoint = f'{base_url}{path}'\n",
    "response = requests.post(endpoint, json={'path': '/home'})\n",
    "\n",
    "if response.ok:\n",
    "    data = response.json()\n",
    "    pprint(data)\n",
    "else:\n",
    "    print(response.text)"
   ]
  },
  {
   "cell_type": "code",
   "execution_count": 7,
   "id": "8fe17109-7393-404c-99b3-c34cedb2b535",
   "metadata": {},
   "outputs": [
    {
     "name": "stdout",
     "output_type": "stream",
     "text": [
      "{'created_at': '2025-05-04T21:10:51.639496Z',\n",
      " 'description': 'NEW desc!',\n",
      " 'id': 1,\n",
      " 'path': 'some path',\n",
      " 'updated_at': '2025-05-05T12:21:07.332847Z'}\n"
     ]
    }
   ],
   "source": [
    "path = '/api/events/1'\n",
    "endpoint = f'{base_url}{path}'\n",
    "response = requests.put(endpoint, json={'description': 'NEW desc!'})\n",
    "\n",
    "if response.ok:\n",
    "    data = response.json()\n",
    "    pprint(data)\n",
    "else:\n",
    "    print(response.text)"
   ]
  },
  {
   "cell_type": "code",
   "execution_count": 8,
   "id": "e7a6384e-b2fd-48ec-aaf2-0d5be098f2fe",
   "metadata": {},
   "outputs": [
    {
     "name": "stdout",
     "output_type": "stream",
     "text": [
      "{'message': 'Deleted event with id 4'}\n"
     ]
    }
   ],
   "source": [
    "path = '/api/events/4'\n",
    "endpoint = f'{base_url}{path}'\n",
    "response = requests.delete(endpoint)\n",
    "\n",
    "if response.ok:\n",
    "    data = response.json()\n",
    "    pprint(data)\n",
    "else:\n",
    "    print(response.text)"
   ]
  }
 ],
 "metadata": {
  "kernelspec": {
   "display_name": "Python 3 (ipykernel)",
   "language": "python",
   "name": "python3"
  },
  "language_info": {
   "codemirror_mode": {
    "name": "ipython",
    "version": 3
   },
   "file_extension": ".py",
   "mimetype": "text/x-python",
   "name": "python",
   "nbconvert_exporter": "python",
   "pygments_lexer": "ipython3",
   "version": "3.13.3"
  }
 },
 "nbformat": 4,
 "nbformat_minor": 5
}
