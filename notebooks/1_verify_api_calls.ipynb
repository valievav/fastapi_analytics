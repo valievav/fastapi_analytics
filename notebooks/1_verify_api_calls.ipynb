{
 "cells": [
  {
   "cell_type": "code",
   "execution_count": 186,
   "id": "e1f6a14e-79a3-47d3-bc53-79c01724b2dc",
   "metadata": {},
   "outputs": [],
   "source": [
    "import requests\n",
    "from pprint import pprint"
   ]
  },
  {
   "cell_type": "code",
   "execution_count": 176,
   "id": "9926fb96-cf29-4230-b007-55cd3139c3c7",
   "metadata": {},
   "outputs": [],
   "source": [
    "base_url = 'http://localhost:8002'"
   ]
  },
  {
   "cell_type": "code",
   "execution_count": 177,
   "id": "4b176793-2a18-4c4b-a258-60c6933656de",
   "metadata": {},
   "outputs": [
    {
     "data": {
      "text/plain": [
       "True"
      ]
     },
     "execution_count": 177,
     "metadata": {},
     "output_type": "execute_result"
    }
   ],
   "source": [
    "path = '/healthz'\n",
    "endpoint = f'{base_url}{path}'\n",
    "response = requests.get(endpoint)\n",
    "\n",
    "response.ok"
   ]
  },
  {
   "cell_type": "code",
   "execution_count": 185,
   "id": "c99e4946-3d93-4869-9f8a-f59d07a2a347",
   "metadata": {},
   "outputs": [
    {
     "name": "stdout",
     "output_type": "stream",
     "text": [
      "{'items': [{'created_at': '2025-05-03T19:59:12.150905Z',\n",
      "            'description': 'NEW desc!',\n",
      "            'id': 1,\n",
      "            'path': 'path provided ',\n",
      "            'updated_at': '2025-05-03T20:12:59.795364Z'},\n",
      "           {'created_at': '2025-05-03T19:59:19.654694Z',\n",
      "            'description': 'ssss',\n",
      "            'id': 2,\n",
      "            'path': 'path provided ',\n",
      "            'updated_at': '2025-05-03T19:59:19.654701Z'},\n",
      "           {'created_at': '2025-05-03T20:00:59.785291Z',\n",
      "            'description': 'ssss',\n",
      "            'id': 3,\n",
      "            'path': 'path provided ',\n",
      "            'updated_at': '2025-05-03T20:00:59.785320Z'},\n",
      "           {'created_at': '2025-05-03T20:03:08.929354Z',\n",
      "            'description': 'ssss',\n",
      "            'id': 5,\n",
      "            'path': 'path provided ',\n",
      "            'updated_at': '2025-05-03T20:03:08.929364Z'},\n",
      "           {'created_at': '2025-05-03T20:12:09.573370Z',\n",
      "            'description': 'ssss',\n",
      "            'id': 6,\n",
      "            'path': 'path provided ',\n",
      "            'updated_at': '2025-05-03T20:12:09.573387Z'},\n",
      "           {'created_at': '2025-05-03T20:12:38.440939Z',\n",
      "            'description': None,\n",
      "            'id': 7,\n",
      "            'path': 'some random path',\n",
      "            'updated_at': '2025-05-03T20:12:38.440945Z'},\n",
      "           {'created_at': '2025-05-03T20:12:59.748094Z',\n",
      "            'description': None,\n",
      "            'id': 8,\n",
      "            'path': 'some path',\n",
      "            'updated_at': '2025-05-03T20:12:59.748105Z'}]}\n"
     ]
    }
   ],
   "source": [
    "path = '/api/events/'\n",
    "endpoint = f'{base_url}{path}'\n",
    "response = requests.get(endpoint)\n",
    "\n",
    "if response.ok:\n",
    "    data = response.json()\n",
    "    pprint(data)\n",
    "else:\n",
    "    print(response.text)"
   ]
  },
  {
   "cell_type": "code",
   "execution_count": 187,
   "id": "1ba021d8-ec89-490a-b4f7-1c93bc0e70a1",
   "metadata": {},
   "outputs": [
    {
     "name": "stdout",
     "output_type": "stream",
     "text": [
      "{'created_at': '2025-05-03T19:59:12.150905Z',\n",
      " 'description': 'NEW desc!',\n",
      " 'id': 1,\n",
      " 'path': 'path provided ',\n",
      " 'updated_at': '2025-05-03T20:12:59.795364Z'}\n"
     ]
    }
   ],
   "source": [
    "path = '/api/events/1'\n",
    "endpoint = f'{base_url}{path}'\n",
    "response = requests.get(endpoint)\n",
    "\n",
    "if response.ok:\n",
    "    data = response.json()\n",
    "    pprint(data)\n",
    "else:\n",
    "    print(response.text)"
   ]
  },
  {
   "cell_type": "code",
   "execution_count": 189,
   "id": "4096c861-4d7e-413b-9f1d-9ed992bbcfaf",
   "metadata": {},
   "outputs": [
    {
     "name": "stdout",
     "output_type": "stream",
     "text": [
      "{'description': None, 'path': 'some path'}\n"
     ]
    }
   ],
   "source": [
    "path = '/api/events/'\n",
    "endpoint = f'{base_url}{path}'\n",
    "response = requests.post(endpoint, json={'path': 'some path'})\n",
    "\n",
    "if response.ok:\n",
    "    data = response.json()\n",
    "    pprint(data)\n",
    "else:\n",
    "    print(response.text)"
   ]
  },
  {
   "cell_type": "code",
   "execution_count": 190,
   "id": "8fe17109-7393-404c-99b3-c34cedb2b535",
   "metadata": {},
   "outputs": [
    {
     "name": "stdout",
     "output_type": "stream",
     "text": [
      "{'created_at': '2025-05-03T19:59:12.150905Z',\n",
      " 'description': 'NEW desc!',\n",
      " 'id': 1,\n",
      " 'path': 'path provided ',\n",
      " 'updated_at': '2025-05-03T20:15:44.112686Z'}\n"
     ]
    }
   ],
   "source": [
    "path = '/api/events/1'\n",
    "endpoint = f'{base_url}{path}'\n",
    "response = requests.put(endpoint, json={'description': 'NEW desc!'})\n",
    "\n",
    "if response.ok:\n",
    "    data = response.json()\n",
    "    pprint(data)\n",
    "else:\n",
    "    print(response.text)"
   ]
  },
  {
   "cell_type": "code",
   "execution_count": 191,
   "id": "e7a6384e-b2fd-48ec-aaf2-0d5be098f2fe",
   "metadata": {},
   "outputs": [
    {
     "name": "stdout",
     "output_type": "stream",
     "text": [
      "{'message': 'Deleted event with id 10'}\n"
     ]
    }
   ],
   "source": [
    "path = '/api/events/10'\n",
    "endpoint = f'{base_url}{path}'\n",
    "response = requests.delete(endpoint)\n",
    "\n",
    "if response.ok:\n",
    "    data = response.json()\n",
    "    pprint(data)\n",
    "else:\n",
    "    print(response.text)"
   ]
  },
  {
   "cell_type": "code",
   "execution_count": null,
   "id": "1eaaf217-ad51-470f-8cb0-8c44a00b9f3d",
   "metadata": {},
   "outputs": [],
   "source": []
  }
 ],
 "metadata": {
  "kernelspec": {
   "display_name": "Python 3 (ipykernel)",
   "language": "python",
   "name": "python3"
  },
  "language_info": {
   "codemirror_mode": {
    "name": "ipython",
    "version": 3
   },
   "file_extension": ".py",
   "mimetype": "text/x-python",
   "name": "python",
   "nbconvert_exporter": "python",
   "pygments_lexer": "ipython3",
   "version": "3.13.3"
  }
 },
 "nbformat": 4,
 "nbformat_minor": 5
}
